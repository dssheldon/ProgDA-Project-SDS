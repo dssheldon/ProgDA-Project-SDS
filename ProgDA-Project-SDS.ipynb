{
 "cells": [
  {
   "cell_type": "markdown",
   "metadata": {},
   "source": [
    "# Programming for Data Analytics - Project 2020\n",
    "\n",
    "Author: Sheldon D'Souza; Email: G00387857@gmit.ie\n",
    "***\n"
   ]
  },
  {
   "cell_type": "markdown",
   "metadata": {},
   "source": [
    "## Project Objective:\n",
    "\n",
    "The objectives of this project are as follows:\n",
    "\n",
    "- Choose a real-world phenomenon that can be measured and for which you could collect at least one-hundred data points across at least four different variables.\n",
    "- Investigate the types of variables involved, their likely distributions, and their relationships with each other.\n",
    "- Synthesise/simulate a data set as closely matching their properties as possible.\n",
    "- Detail your research and implement the simulation in a Jupyter notebook – the data set itself can simply be displayed in an output cell within the notebook"
   ]
  },
  {
   "cell_type": "markdown",
   "metadata": {},
   "source": [
    "## Project Plan\n",
    "\n",
    "- Decide on real-world phenomenon\n",
    "- Identify dependent and independent variables for the phenomenon\n",
    "- Research the variables and the data surrounding these variables\n",
    "- Research the attributes and distributions of the variables\n",
    "- Research the interdependencies between the variables\n",
    "- Research generating the dataset using python taking into account the interdependencies\n",
    "- Generate the dataset"
   ]
  },
  {
   "cell_type": "markdown",
   "metadata": {},
   "source": [
    "## Scratchpad - to be deleted on the completion of the project\n",
    "\n",
    "- Ideas\n",
    "    - Impact on Avg Blood Glucose of carbohydrates, bmi, exercise, glycemic index\n",
    "    - Impact on starting salary of experience, qualification, certifications, training etc.\n",
    "    - Impact on Life Expectancy of various factors\n",
    "    - Average Domestic Electricity Consummption - BER Rating (Insulation), Size of the house (depends on year of construction), Average occupancy (number of occupants and time spent at home), Time of year (Outside Temperature and Number of hours of Daylight - Depends on the season)"
   ]
  },
  {
   "cell_type": "code",
   "execution_count": null,
   "metadata": {},
   "outputs": [],
   "source": []
  }
 ],
 "metadata": {
  "kernelspec": {
   "display_name": "Python 3",
   "language": "python",
   "name": "python3"
  },
  "language_info": {
   "codemirror_mode": {
    "name": "ipython",
    "version": 3
   },
   "file_extension": ".py",
   "mimetype": "text/x-python",
   "name": "python",
   "nbconvert_exporter": "python",
   "pygments_lexer": "ipython3",
   "version": "3.8.3"
  }
 },
 "nbformat": 4,
 "nbformat_minor": 4
}
