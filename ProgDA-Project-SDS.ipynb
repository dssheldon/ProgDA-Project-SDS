{
 "cells": [
  {
   "cell_type": "markdown",
   "metadata": {},
   "source": [
    "# Programming for Data Analytics - Project 2020\n",
    "\n",
    "Author: Sheldon D'Souza; Email: G00387857@gmit.ie\n",
    "***\n"
   ]
  },
  {
   "cell_type": "markdown",
   "metadata": {},
   "source": [
    "## Project Objective:\n",
    "\n",
    "The objectives of this project are as follows:\n",
    "\n",
    "- Choose a real-world phenomenon that can be measured and for which you could collect at least one-hundred data points across at least four different variables.\n",
    "- Investigate the types of variables involved, their likely distributions, and their relationships with each other.\n",
    "- Synthesise/simulate a data set as closely matching their properties as possible.\n",
    "- Detail your research and implement the simulation in a Jupyter notebook – the data set itself can simply be displayed in an output cell within the notebook"
   ]
  },
  {
   "cell_type": "markdown",
   "metadata": {},
   "source": [
    "## Project Plan\n",
    "\n",
    "- Decide on real-world phenomenon\n",
    "- Identify dependent and independent variables for the phenomenon\n",
    "- Research the variables and the data surrounding these variables\n",
    "- Research the attributes and distributions of the variables\n",
    "- Research the interdependencies between the variables\n",
    "- Research generating the dataset using python taking into account the interdependencies\n",
    "- Generate the dataset"
   ]
  },
  {
   "cell_type": "markdown",
   "metadata": {},
   "source": [
    "## Scratchpad - to be deleted on the completion of the project\n",
    "\n",
    "- Ideas\n",
    "    - Impact on Avg Blood Glucose of carbohydrates, bmi, exercise, glycemic index\n",
    "    - Impact on starting salary of experience, qualification, certifications, training etc.\n",
    "    - Impact on Life Expectancy of various factors\n",
    "    - Average Domestic Electricity Consummption - BER Rating (Insulation), Size of the house (depends on year of construction), Average occupancy (number of occupants and time spent at home), Time of year (Outside Temperature and Number of hours of Daylight - Depends on the season)"
   ]
  },
  {
   "cell_type": "markdown",
   "metadata": {},
   "source": [
    "## Dataset to explored and generated\n",
    "\n",
    "\n",
    "### Scope of the project\n",
    "\n",
    "The scope of the data I will explore is the factors which impact the average monthly domestic electricity consumption of a household in Dublin. Some of the data (where relevant) will be extrapolated or inferred from national or international statistics and where I have made these assumptions, I will make this clear in the relevant section.\n",
    "\n",
    "### Dataset\n",
    "\n",
    " The variables which I will explore are as follows:\n",
    "\n",
    "- Average monthly electricity consumption for a household\n",
    "\n",
    "- BER Rating of the house \n",
    "\n",
    "- Size of the house\n",
    "\n",
    "- Year of construction of the house (Baked-in into the BER as average across years of construction taken)\n",
    "\n",
    "\n",
    "- Average occupancy (number of occupants (Poisson distribution) x average time spent at home)\n",
    "\n",
    "\n",
    "https://www.researchgate.net/publication/226081704_Household_size_and_the_Poisson_distribution\n",
    "\n",
    "https://data.cso.ie/table/E1012\n",
    "\n",
    "\n",
    "- Temperature (Normal Distribution)\n",
    "\n",
    "- Number of hours of Daylight - for simplicity simple to take monthly average and use the same function as for BER\n",
    "- Season of the year - Uniform distribution - slight variations?\n",
    "\n",
    "\n",
    "We will explore each of the variables in the sections below:"
   ]
  },
  {
   "cell_type": "markdown",
   "metadata": {},
   "source": [
    "#### Average monthly electicity consumption\n",
    "\n",
    "Datatype: This will be a numeric variable which will be denoted in Kilowatt hours (kWh). This will be a determined by a algorithim based on the dependent variables, as described in the sections below.\n",
    "\n",
    "\n"
   ]
  },
  {
   "cell_type": "markdown",
   "metadata": {},
   "source": [
    "##### BER Rating of a house\n",
    "\n",
    "Datatype: This is a categorical variable ranging from A to F. Certain categories have further sub-divisions, most notably C1 C2 and C3. \n",
    "\n",
    "Note that the data for the the kWh/m2/annum has been given in \n",
    "\n",
    "##### What is BER\n",
    "\n",
    ">Building Energy Rating (BER) certificates were introduced in Ireland in 2007, as required under the Energy Performance in Buildings Directive. The purpose of a BER is to make the energy performance of a dwelling visible and comparable to other dwellings on a like for like basis, allowing buyers and tenants to consider energy performance when deciding to purchase or rent a building. To do this the BER rates the theoretical energy performance of a dwelling, assigning it a rating from A1-G based on a calculation of the primary energy consumption in kWh per metre squared per year under standard conditions. Therefore a BER is similar to the energy rating on appliances, with A rated homes being the most energy efficient (and likely to have lower energy bills) and G rated homes being the least energy-efficient. The most efficient rating is an “A1” rating, which represents annual energy consumption of less than 25 kWh/m2., as illustrated in the table below:\n",
    ">\n",
    "\n",
    "#### Primary Energy Consumption of bands on the BER scale.\n",
    "\n",
    ">\n",
    "| BER Grade | A1 | A2 | A3 | B1 | B2 | B3 | C1 | C2 | C3 | D1 | D2 | E1 | E2 | F | G |\n",
    "|:--- | --- | --- | --- | --- | --- | --- | --- | --- | --- | --- | --- | --- | --- | --- | --- |\n",
    "| Primary Energy kWh/m2/annum | <25 | >25 | >50 | >75 | >100 | >125 | >150 | >175 | >200 | >225 | >260 | >300 | >340 | >380 | >450 |\n",
    "\n",
    ">Source: SEAI\n",
    ">\n",
    "> Reference: https://www.seai.ie/publications/Energy-in-the-Residential-Sector-2018-Final.pdf\n",
    "\n",
    "\n",
    "I have made a few assumtions to re-organise the above data to make it fit for purpose:\n",
    "1. I have merged the three A categories (A1, A2, and A3) together as the actual distribution of BER rating from the Central Statistics Office (CSO) does not distinuguish between these categories and therefore for compratbility purposes I have taken the three as one category A\n",
    "2. I have taken the mid range of each category and resdesigned the table accordingly\n",
    "3. I have assumed that the distribution of the consumption is evenly spread throughout the year\n",
    "4. In light of assumption 3 above. I have increased or decreased the kWh/m2/annum for each BER rating based on a number of factors such as Average occupancy (number of occupants x average time spent at home), Temperature, Number of hours of Daylight and Season of the year.\n",
    "\n",
    "| BER Grade | Consumption Range | Mean Consumption |\n",
    "|--- | --- | --- |\n",
    "| A | 0 - 75 | 37.50 |\n",
    "| B1 | 75 - 100 | 87.50 |\n",
    "| B2 | 100 - 125 | 112.50 |\n",
    "| B3 | 125 - 150 | 137.50 |\n",
    "| C1 | 150 - 175 | 162.50 |\n",
    "| C2 | 175 - 200 | 187.50 |\n",
    "| C3 | 200 - 225 | 212.50 |\n",
    "| D1 | 225 - 260 | 242.50 |\n",
    "| D2 | 260 - 300 | 280 |\n",
    "| E1 | 300 - 340 | 320 |\n",
    "| F | 340 - 380 | 360 |\n",
    "| G | 380 - 440 | 410 |\n",
    "\n",
    "\n",
    "\n",
    "\n",
    "#### Distribution of BER ratings across the country\n",
    "\n",
    "The National average percentage of the BER ratings for each rating category is given below. This has been taken from the CSO Website for Q3 2020. I have used the national average as this most closely resembles the Dublin data and I believe it will be better approximation for Dublin as a whole considering Dublin makes the highest proportion of the statistics. I have also taken an average of all 'Year of Builds' and **so we can assume for the purposes of this that the BER below bakes in the year of build of the house**.\n",
    "\n",
    "| BER Grade | A\t| B1| B2 | B3 | C1 | C2 | C3 | D1 | D2 | E1 | E2 | F | G | Total |\n",
    "|:--- | ---\t| ---| --- | --- | --- | --- | --- | --- | --- | --- | --- | --- | --- | --- |\n",
    "|**National BER distribution %** | 7 | 1 | 3 | 8| 12 | 12 | 12 | 12 | 10 | 6 | 5 | 5 | 7 | **100** |\n",
    "\n",
    "\n",
    "\n",
    "Domestic BER Rating - Q3 2020: CSO Website - https://www.cso.ie/en/releasesandpublications/er/dber/domesticbuildingenergyratingsquarter32020/\n"
   ]
  },
  {
   "cell_type": "markdown",
   "metadata": {},
   "source": []
  },
  {
   "cell_type": "markdown",
   "metadata": {},
   "source": [
    "### Average temperature\n",
    "\n",
    "\n",
    "TO DO - TO REFERENCE THE ANALYSIS BELOW:\n",
    "\n",
    "https://en.vedur.is/media/ces/CES_D2.4_task1.pdf\n",
    "\n",
    "https://iopscience.iop.org/article/10.1088/1742-6596/738/1/012078/pdf\n",
    "\n",
    "http://www.tloux.com/blog/what-can-the-normal-distribution-tell-us-about-climate-change/\n",
    "\n",
    "\n",
    "\n",
    "\n",
    "#### Proved that monthly temperature follows a normal distribution:\n",
    "\n",
    "Reading the above literature, I theorised that I should be able to prove that temperature follows a normal distribution.\n",
    "\n",
    "\n",
    "To do this, I downloaded the Irish daily weather data for Dublin airport and plotted a histogram of the distribution of the maximum daily for each month as well as on an overall basis. The data (found at the link below) showed that a normal distribution is a reasonable approximation for the distribution of monthly temperature.\n",
    "\n",
    "The dataset link: https://cli.fusio.net/cli/climate_data/webdata/dly532.zip \n",
    "Taken from the website https://www.met.ie/climate/available-data/historical-data (Met Ireland)\n",
    "\n",
    "\n",
    "I used pandas to load the dataset into a Dataframe and plotted (as an example) the daily mean temperature since the 1940's to date. See below for code used:"
   ]
  },
  {
   "cell_type": "code",
   "execution_count": 9,
   "metadata": {
    "scrolled": true
   },
   "outputs": [
    {
     "data": {
      "text/plain": [
       "<matplotlib.axes._subplots.AxesSubplot at 0x1ad45e90970>"
      ]
     },
     "execution_count": 9,
     "metadata": {},
     "output_type": "execute_result"
    },
    {
     "data": {
      "image/png": "[encoded data removed]",
      "text/plain": [
       "<Figure size 432x288 with 1 Axes>"
      ]
     },
     "metadata": {
      "needs_background": "light"
     },
     "output_type": "display_data"
    }
   ],
   "source": [
    "import pandas as pd\n",
    "import datetime\n",
    "import seaborn as sns\n",
    "import matplotlib.pyplot as plt\n",
    "\n",
    "df = pd.read_csv(\"dly532.csv\", skiprows=25)\n",
    "df['newdate'] = pd.to_datetime(df['date'])\n",
    "df_hist = df[(pd.DatetimeIndex(df['newdate']).month == 3)]['maxtp'] #Adapted from (https://stackoverflow.com/questions/25146121/extracting-just-month-and-year-separately-from-pandas-datetime-column)\n",
    "\n",
    "\n",
    "sns.distplot(df_hist)"
   ]
  },
  {
   "cell_type": "markdown",
   "metadata": {},
   "source": [
    "Based on the above analysis, I generated the temperature using a normal distribution whereby:\n",
    "1. the mean temperature data from the pandas dataframe loaded from Met Ireland. See cell below for calculation.\n",
    "2. assumed a standard deviation of 3 (as conventional for a normal distribution)"
   ]
  },
  {
   "cell_type": "code",
   "execution_count": 19,
   "metadata": {},
   "outputs": [
    {
     "name": "stdout",
     "output_type": "stream",
     "text": [
      "[8, 8, 10, 12, 15, 17, 19, 19, 17, 14, 10, 8]\n"
     ]
    }
   ],
   "source": [
    "# Generate a list of monthly averages from the data at :\n",
    "\n",
    "weather_monthly_averages = []\n",
    "for m in range(1, 13):\n",
    "    weather_monthly_averages.append(int(round(df[(pd.DatetimeIndex(df['newdate']).month == m)]['maxtp'].mean(),0)))\n",
    "\n",
    "print(weather_monthly_averages)\n"
   ]
  },
  {
   "cell_type": "code",
   "execution_count": null,
   "metadata": {},
   "outputs": [],
   "source": []
  },
  {
   "cell_type": "markdown",
   "metadata": {},
   "source": [
    "### Average size of a house\n",
    "\n",
    "Datatype: This is a numeric variable expressed in meteres squared.\n",
    "\n",
    "\n",
    "TO DO - INCLUDE THE ANALYSIS FROM THE CSO ON THE AVERAGE SIZE OF A HOUSE\n",
    "\n",
    "Table 11 - https://www.cso.ie/en/releasesandpublications/er/dber/domesticbuildingenergyratingsquarter32020/\n",
    "\n"
   ]
  },
  {
   "cell_type": "code",
   "execution_count": 2,
   "metadata": {},
   "outputs": [
    {
     "name": "stdout",
     "output_type": "stream",
     "text": [
      "[107 104 120 112 117 119 100 111 107 111 123 136 116  90 103 120 116 115\n",
      " 111  97  98 113 106 133 104 115 117 125 101 128 115 112 135 108 127 105\n",
      " 123 120 107 112 117 113 105 119 130 118 134  96 118 116 122 110 107  92\n",
      "  97 113  99 111 107 106 120 109 106 122 103 127 117 122 111 115 110 101\n",
      " 104 119 106 113  96 101 100 112 112 115 113 108 122 127  94 106 107 100\n",
      " 127 101  98 109 101 123  95  96 107 104]\n"
     ]
    },
    {
     "data": {
      "image/png": "[encoded data removed]",
      "text/plain": [
       "<Figure size 432x288 with 1 Axes>"
      ]
     },
     "metadata": {
      "needs_background": "light"
     },
     "output_type": "display_data"
    }
   ],
   "source": [
    "#Test to check whether the possion distribtion will generate data which reflects the size of a house\n",
    "\n",
    "import numpy as np\n",
    "rng = np.random.default_rng()\n",
    "s = rng.poisson(112, 100)\n",
    "print(s)\n",
    "import matplotlib.pyplot as plt\n",
    "plt.hist(s)\n",
    "plt.show()"
   ]
  },
  {
   "cell_type": "code",
   "execution_count": null,
   "metadata": {},
   "outputs": [],
   "source": []
  },
  {
   "cell_type": "code",
   "execution_count": null,
   "metadata": {},
   "outputs": [],
   "source": []
  },
  {
   "cell_type": "code",
   "execution_count": 6,
   "metadata": {},
   "outputs": [],
   "source": [
    "import pandas as pd\n",
    "df_house = pd.read_csv(\"https://justinsighting.com/wp-content/uploads/2016/05/RealEstate.csv\")"
   ]
  },
  {
   "cell_type": "code",
   "execution_count": 11,
   "metadata": {},
   "outputs": [
    {
     "data": {
      "text/html": [
       "<div>\n",
       "<style scoped>\n",
       "    .dataframe tbody tr th:only-of-type {\n",
       "        vertical-align: middle;\n",
       "    }\n",
       "\n",
       "    .dataframe tbody tr th {\n",
       "        vertical-align: top;\n",
       "    }\n",
       "\n",
       "    .dataframe thead th {\n",
       "        text-align: right;\n",
       "    }\n",
       "</style>\n",
       "<table border=\"1\" class=\"dataframe\">\n",
       "  <thead>\n",
       "    <tr style=\"text-align: right;\">\n",
       "      <th></th>\n",
       "      <th>MLS</th>\n",
       "      <th>Location</th>\n",
       "      <th>Price</th>\n",
       "      <th>Bedrooms</th>\n",
       "      <th>Bathrooms</th>\n",
       "      <th>Size</th>\n",
       "      <th>Price/SQ.Ft</th>\n",
       "      <th>Status</th>\n",
       "    </tr>\n",
       "  </thead>\n",
       "  <tbody>\n",
       "    <tr>\n",
       "      <th>0</th>\n",
       "      <td>132842</td>\n",
       "      <td>Arroyo Grande</td>\n",
       "      <td>795000.0</td>\n",
       "      <td>3</td>\n",
       "      <td>3</td>\n",
       "      <td>2371</td>\n",
       "      <td>335.30</td>\n",
       "      <td>Short Sale</td>\n",
       "    </tr>\n",
       "    <tr>\n",
       "      <th>1</th>\n",
       "      <td>134364</td>\n",
       "      <td>Paso Robles</td>\n",
       "      <td>399000.0</td>\n",
       "      <td>4</td>\n",
       "      <td>3</td>\n",
       "      <td>2818</td>\n",
       "      <td>141.59</td>\n",
       "      <td>Short Sale</td>\n",
       "    </tr>\n",
       "    <tr>\n",
       "      <th>2</th>\n",
       "      <td>135141</td>\n",
       "      <td>Paso Robles</td>\n",
       "      <td>545000.0</td>\n",
       "      <td>4</td>\n",
       "      <td>3</td>\n",
       "      <td>3032</td>\n",
       "      <td>179.75</td>\n",
       "      <td>Short Sale</td>\n",
       "    </tr>\n",
       "    <tr>\n",
       "      <th>3</th>\n",
       "      <td>135712</td>\n",
       "      <td>Morro Bay</td>\n",
       "      <td>909000.0</td>\n",
       "      <td>4</td>\n",
       "      <td>4</td>\n",
       "      <td>3540</td>\n",
       "      <td>256.78</td>\n",
       "      <td>Short Sale</td>\n",
       "    </tr>\n",
       "    <tr>\n",
       "      <th>4</th>\n",
       "      <td>136282</td>\n",
       "      <td>Santa Maria-Orcutt</td>\n",
       "      <td>109900.0</td>\n",
       "      <td>3</td>\n",
       "      <td>1</td>\n",
       "      <td>1249</td>\n",
       "      <td>87.99</td>\n",
       "      <td>Short Sale</td>\n",
       "    </tr>\n",
       "  </tbody>\n",
       "</table>\n",
       "</div>"
      ],
      "text/plain": [
       "      MLS            Location     Price  Bedrooms  Bathrooms  Size  \\\n",
       "0  132842       Arroyo Grande  795000.0         3          3  2371   \n",
       "1  134364         Paso Robles  399000.0         4          3  2818   \n",
       "2  135141         Paso Robles  545000.0         4          3  3032   \n",
       "3  135712           Morro Bay  909000.0         4          4  3540   \n",
       "4  136282  Santa Maria-Orcutt  109900.0         3          1  1249   \n",
       "\n",
       "   Price/SQ.Ft      Status  \n",
       "0       335.30  Short Sale  \n",
       "1       141.59  Short Sale  \n",
       "2       179.75  Short Sale  \n",
       "3       256.78  Short Sale  \n",
       "4        87.99  Short Sale  "
      ]
     },
     "execution_count": 11,
     "metadata": {},
     "output_type": "execute_result"
    }
   ],
   "source": [
    "df_house.head()"
   ]
  },
  {
   "cell_type": "code",
   "execution_count": 12,
   "metadata": {},
   "outputs": [
    {
     "data": {
      "text/plain": [
       "(array([ 22., 312., 281.,  93.,  40.,  18.,   4.,   7.,   2.,   2.]),\n",
       " array([ 120.,  788., 1456., 2124., 2792., 3460., 4128., 4796., 5464.,\n",
       "        6132., 6800.]),\n",
       " <a list of 10 Patch objects>)"
      ]
     },
     "execution_count": 12,
     "metadata": {},
     "output_type": "execute_result"
    },
    {
     "data": {
      "image/png": "[encoded data removed]",
      "text/plain": [
       "<Figure size 432x288 with 1 Axes>"
      ]
     },
     "metadata": {
      "needs_background": "light"
     },
     "output_type": "display_data"
    }
   ],
   "source": [
    "plt.hist(df_house['Size']) #"
   ]
  },
  {
   "cell_type": "code",
   "execution_count": 31,
   "metadata": {},
   "outputs": [
    {
     "data": {
      "text/plain": [
       "(array([94.,  1.,  3.,  0.,  0.,  0.,  1.,  0.,  0.,  1.]),\n",
       " array([  2.00784407,  23.03051985,  44.05319564,  65.07587142,\n",
       "         86.0985472 , 107.12122299, 128.14389877, 149.16657456,\n",
       "        170.18925034, 191.21192612, 212.23460191]),\n",
       " <a list of 10 Patch objects>)"
      ]
     },
     "execution_count": 31,
     "metadata": {},
     "output_type": "execute_result"
    },
    {
     "data": {
      "image/png": "[encoded data removed]",
      "text/plain": [
       "<Figure size 432x288 with 1 Axes>"
      ]
     },
     "metadata": {
      "needs_background": "light"
     },
     "output_type": "display_data"
    }
   ],
   "source": [
    "s = (np.random.default_rng().pareto(1, 100) + 1) * \n",
    "\n",
    "plt.hist(s)"
   ]
  },
  {
   "cell_type": "code",
   "execution_count": null,
   "metadata": {},
   "outputs": [],
   "source": []
  }
 ],
 "metadata": {
  "kernelspec": {
   "display_name": "Python 3",
   "language": "python",
   "name": "python3"
  },
  "language_info": {
   "codemirror_mode": {
    "name": "ipython",
    "version": 3
   },
   "file_extension": ".py",
   "mimetype": "text/x-python",
   "name": "python",
   "nbconvert_exporter": "python",
   "pygments_lexer": "ipython3",
   "version": "3.8.3"
  }
 },
 "nbformat": 4,
 "nbformat_minor": 4
}
