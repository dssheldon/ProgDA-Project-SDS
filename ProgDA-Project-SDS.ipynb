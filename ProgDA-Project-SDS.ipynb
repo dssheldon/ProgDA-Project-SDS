{
 "cells": [
  {
   "cell_type": "markdown",
   "metadata": {},
   "source": [
    "# Programming for Data Analytics - Project 2020\n",
    "\n",
    "Author: Sheldon D'Souza; Email: G00387857@gmit.ie\n",
    "***\n"
   ]
  },
  {
   "cell_type": "markdown",
   "metadata": {},
   "source": [
    "## Project Objective:\n",
    "\n",
    "The objectives of this project are as follows:\n",
    "\n",
    "- Choose a real-world phenomenon that can be measured and for which you could collect at least one-hundred data points across at least four different variables.\n",
    "- Investigate the types of variables involved, their likely distributions, and their relationships with each other.\n",
    "- Synthesise/simulate a data set as closely matching their properties as possible.\n",
    "- Detail your research and implement the simulation in a Jupyter notebook – the data set itself can simply be displayed in an output cell within the notebook"
   ]
  },
  {
   "cell_type": "markdown",
   "metadata": {},
   "source": [
    "## Project Plan\n",
    "\n",
    "- Decide on real-world phenomenon\n",
    "- Identify dependent and independent variables for the phenomenon\n",
    "- Research the variables and the data surrounding these variables\n",
    "- Research the attributes and distributions of the variables\n",
    "- Research the interdependencies between the variables\n",
    "- Research generating the dataset using python taking into account the interdependencies\n",
    "- Generate the dataset"
   ]
  },
  {
   "cell_type": "markdown",
   "metadata": {},
   "source": [
    "## Scratchpad - to be deleted on the completion of the project\n",
    "\n",
    "- Ideas\n",
    "    - Impact on Avg Blood Glucose of carbohydrates, bmi, exercise, glycemic index\n",
    "    - Impact on starting salary of experience, qualification, certifications, training etc.\n",
    "    - Impact on Life Expectancy of various factors\n",
    "    - Average Domestic Electricity Consummption - BER Rating (Insulation), Size of the house (depends on year of construction), Average occupancy (number of occupants and time spent at home), Time of year (Outside Temperature and Number of hours of Daylight - Depends on the season)"
   ]
  },
  {
   "cell_type": "markdown",
   "metadata": {},
   "source": [
    "## Dataset to explored and generated\n",
    "\n",
    "\n",
    "### Scope of the project\n",
    "\n",
    "The scope of the data I will explore is the factors which impact the average monthly domestic electricity consumption of a household in Dublin. Some of the data (where relevant) will be extrapolated or inferred from national or international statistics and where I have made these assumptions, I will make this clear in the relevant section.\n",
    "\n",
    "### Dataset\n",
    "\n",
    " The variables which I will explore are as follows:\n",
    "\n",
    "- Average monthly electricity consumption for a household\n",
    "- BER Rating of the house\n",
    "- Size of the house\n",
    "- Year of construction of the house\n",
    "- Average occupancy (number of occupants x average time spent at home)\n",
    "- Temperature\n",
    "- Number of hours of Daylight\n",
    "- Season of the year\n",
    "\n",
    "\n",
    "We will explore each of the variables in the sections below:"
   ]
  },
  {
   "cell_type": "markdown",
   "metadata": {},
   "source": [
    "#### Average monthly electicity consumption\n",
    "\n",
    "This will be a numeric variable which will be denoted in Kilowatt hours (kWh). This will be a determined by a algorithim based on the dependent variables, as described in the sections below."
   ]
  },
  {
   "attachments": {},
   "cell_type": "markdown",
   "metadata": {},
   "source": [
    "#### BER Rating of a house\n",
    "\n",
    "##### What is BER\n",
    "\n",
    ">Building Energy Rating (BER) certificates were introduced in Ireland in 2007, as required under the Energy Performance in Buildings Directive. The purpose of a BER is to make the energy performance of a dwelling visible and comparable to other dwellings on a like for like basis, allowing buyers and tenants to consider energy performance when deciding to purchase or rent a building. To do this the BER rates the theoretical energy performance of a dwelling, assigning it a rating from A1-G based on a calculation of the primary energy consumption in kWh per metre squared per year under standard conditions. Therefore a BER is similar to the energy rating on appliances, with A rated homes being the most energy efficient (and likely to have lower energy bills) and G rated homes being the least energy-efficient. The most efficient rating is an “A1” rating, which represents annual energy consumption of less than 25 kWh/m2., as illustrated in the table below:\n",
    ">\n",
    ">Primary Energy Consumption of bands on the BER scale.\n",
    ">\n",
    "| BER Grade | A1 | A2 | A3 | B1 | B2 | B3 | C1 | C2 | C3 | D1 | D2 | E1 | E2 | F | G |\n",
    "|:--- | --- | --- | --- | --- | --- | --- | --- | --- | --- | --- | --- | --- | --- | --- | --- |\n",
    "| Primary Energy kWh/m2/annum | <25 | >25 | >50 | >75 | >100 | >125 | >150 | >175 | >200 | >225 | >260 | >300 | >340 | >380 | >450 |\n",
    "\n",
    ">Source: SEAI\n",
    ">\n",
    "> Reference: https://www.seai.ie/publications/Energy-in-the-Residential-Sector-2018-Final.pdf\n",
    "\n",
    "\n",
    "The National average percentage of the BER ratings for each rating category is given below. This has been taken from the CSO Website for Q3 2020. I have used the national average as this most closely resembles the Dublin data and I believe it will be better approximation for Dublin as a whole (taking into consideration the dilution of higher statistics from County Dublin).\n",
    "\n",
    "| A\t| B1| B2 | B3 | C1 | C2 | C3 | D1 | D2 | E1 | E2 | F | G |\n",
    "| ---\t| ---| --- | --- | --- | --- | --- | --- | --- | --- | --- | --- | --- |\n",
    "| 7 | 1 | 3 | 8| 12 | 13 | 12 | 12 | 10 | 6 | 5 | 5 | 7 |\n",
    "\n",
    "\n",
    "\n",
    "Domestic BER Rating - Q3 2020: CSO Website - https://www.cso.ie/en/releasesandpublications/er/dber/domesticbuildingenergyratingsquarter32020/\n"
   ]
  },
  {
   "cell_type": "code",
   "execution_count": null,
   "metadata": {},
   "outputs": [],
   "source": []
  },
  {
   "cell_type": "markdown",
   "metadata": {},
   "source": []
  },
  {
   "cell_type": "code",
   "execution_count": null,
   "metadata": {},
   "outputs": [],
   "source": []
  }
 ],
 "metadata": {
  "kernelspec": {
   "display_name": "Python 3",
   "language": "python",
   "name": "python3"
  },
  "language_info": {
   "codemirror_mode": {
    "name": "ipython",
    "version": 3
   },
   "file_extension": ".py",
   "mimetype": "text/x-python",
   "name": "python",
   "nbconvert_exporter": "python",
   "pygments_lexer": "ipython3",
   "version": "3.8.3"
  }
 },
 "nbformat": 4,
 "nbformat_minor": 4
}
